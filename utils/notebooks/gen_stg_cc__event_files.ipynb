{
 "cells": [
  {
   "cell_type": "code",
   "execution_count": 18,
   "id": "ea5a6673-64f9-4e25-ab8f-505eb10d99e2",
   "metadata": {},
   "outputs": [],
   "source": [
    "event_names = [\n",
    "    'become_customer',\n",
    "    'brightback_cancel',\n",
    "    'brightback_deflect',\n",
    "    'brightback_link',\n",
    "    'brightback_offer',\n",
    "    'brightback_page_loaded',\n",
    "    'brightback_save',\n",
    "    'brightback_watchlist',\n",
    "    'cart_for_wrong_zip_code',\n",
    "    'custom_event',\n",
    "    'follow_farm',\n",
    "    'join_wait_list',\n",
    "    'loyalty_reward_added_to_order',\n",
    "    'order_add_to_cart',\n",
    "    'order_cancelled',\n",
    "    'order_complete',\n",
    "    'order_enter_address',\n",
    "    'order_enter_payment',\n",
    "    'order_paid',\n",
    "    'order_remove_from_cart',\n",
    "    'order_rescheduled',\n",
    "    'order_viewed_by_customer',\n",
    "    'page_view',\n",
    "    'postal_code_enter',\n",
    "    'product_search',\n",
    "    'redeem_partner_offer',\n",
    "    'referral_created',\n",
    "    'register_placeholder',\n",
    "    'sign_in',\n",
    "    'sign_out',\n",
    "    'sign_up',\n",
    "    'signup_to_be_notified',\n",
    "    'subscribed',\n",
    "    'subscription_renew_period_updated',\n",
    "    'unfollow_farm',\n",
    "    'unsubscribed',\n",
    "    'update_email_preferences',\n",
    "    'update_subscription',\n",
    "    'user_assigned_to_experiment',\n",
    "    'user_rated_cut',\n",
    "    'user_reassigned_to_experiment',\n",
    "    'viewed_product'\n",
    "]"
   ]
  },
  {
   "cell_type": "code",
   "execution_count": 19,
   "id": "42cea407-f14f-4a05-a0a7-1d9ac0379b18",
   "metadata": {},
   "outputs": [],
   "source": [
    "template = \"\"\"{{\n",
    "  config(\n",
    "    tags=[\"events\"]\n",
    "  )\n",
    "}}\n",
    "\n",
    "with base as (\n",
    "  select\n",
    "    *\n",
    "  from\n",
    "    {{ ref('base_cc__ahoy_events') }}\n",
    "),\n",
    "event_{} as (\n",
    "  select\n",
    "     event_id\n",
    "    ,visit_id\n",
    "    ,occurred_at_utc\n",
    "    ,user_id\n",
    "    \n",
    "  from \n",
    "    base\n",
    "  where \n",
    "    event_name = '{}'\n",
    ")\n",
    "\n",
    "select * from event_{}\n",
    "\n",
    "\"\"\""
   ]
  },
  {
   "cell_type": "code",
   "execution_count": 20,
   "id": "03897176-d40c-41bd-b701-cc9c665b51da",
   "metadata": {},
   "outputs": [],
   "source": [
    "for en in event_names:\n",
    "    with open(f'dw_stg_files/stg_cc__event_{en}.sql', 'w') as f:\n",
    "        f.write(template.format(en,en,en))"
   ]
  },
  {
   "cell_type": "code",
   "execution_count": null,
   "id": "5a2aa5e1-7109-4f99-8e0c-15b3d34efed7",
   "metadata": {},
   "outputs": [],
   "source": []
  }
 ],
 "metadata": {
  "kernelspec": {
   "display_name": "Python 3",
   "language": "python",
   "name": "python3"
  },
  "language_info": {
   "codemirror_mode": {
    "name": "ipython",
    "version": 3
   },
   "file_extension": ".py",
   "mimetype": "text/x-python",
   "name": "python",
   "nbconvert_exporter": "python",
   "pygments_lexer": "ipython3",
   "version": "3.9.2"
  }
 },
 "nbformat": 4,
 "nbformat_minor": 5
}
